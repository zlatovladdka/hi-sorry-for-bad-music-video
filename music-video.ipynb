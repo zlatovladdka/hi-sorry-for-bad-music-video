{
 "cells": [
  {
   "cell_type": "code",
   "execution_count": 26,
   "metadata": {},
   "outputs": [],
   "source": [
    "from pydub import AudioSegment\n",
    "import numpy as np\n",
    "import matplotlib\n",
    "from PIL import Image"
   ]
  },
  {
   "cell_type": "code",
   "execution_count": 2,
   "metadata": {
    "scrolled": true
   },
   "outputs": [],
   "source": [
    "song = np.frombuffer(AudioSegment.from_file(\"hi(sorry for bad english).wav\", format='wav').raw_data)\n",
    "num_of_frames = int(len(np.frombuffer(song))/ (40 * 30))"
   ]
  },
  {
   "cell_type": "code",
   "execution_count": 4,
   "metadata": {},
   "outputs": [],
   "source": [
    "def vec2mat(a, shape):\n",
    "    h, w = shape\n",
    "    A = np.zeros(shape, dtype=a.dtype)\n",
    "    for i in range(h):\n",
    "        A[i, :] = a[i*w:i*w+w]\n",
    "    return np.flipud(A)"
   ]
  },
  {
   "cell_type": "code",
   "execution_count": 5,
   "metadata": {},
   "outputs": [],
   "source": [
    "mov = np.zeros((num_of_frames, 40, 30))\n",
    "size = 40 * 30\n",
    "for i in range(num_of_frames):\n",
    "    frame = song[size * i : size * (i+1)]\n",
    "    mov[i] = vec2mat(frame, (40, 30))"
   ]
  },
  {
   "cell_type": "code",
   "execution_count": 6,
   "metadata": {},
   "outputs": [],
   "source": [
    "mov = np.abs(np.nan_to_num(mov)) / 1e300"
   ]
  },
  {
   "cell_type": "code",
   "execution_count": 8,
   "metadata": {},
   "outputs": [],
   "source": [
    "colors='Accent, Accent_r, Blues, Blues_r, BrBG, BrBG_r, BuGn, BuGn_r, BuPu, BuPu_r, CMRmap, CMRmap_r, Dark2, Dark2_r, GnBu, GnBu_r, Greens, Greens_r, Greys, Greys_r, OrRd, OrRd_r, Oranges, Oranges_r, PRGn, PRGn_r, Paired, Paired_r, Pastel1, Pastel1_r, Pastel2, Pastel2_r, PiYG, PiYG_r, PuBu, PuBuGn, PuBuGn_r, PuBu_r, PuOr, PuOr_r, PuRd, PuRd_r, Purples, Purples_r, RdBu, RdBu_r, RdGy, RdGy_r, RdPu, RdPu_r, RdYlBu, RdYlBu_r, RdYlGn, RdYlGn_r, Reds, Reds_r, Set1, Set1_r, Set2, Set2_r, Set3, Set3_r, Spectral, Spectral_r, Wistia, Wistia_r, YlGn, YlGnBu, YlGnBu_r, YlGn_r, YlOrBr, YlOrBr_r, YlOrRd, YlOrRd_r, afmhot, afmhot_r, autumn, autumn_r, binary, binary_r, bone, bone_r, brg, brg_r, bwr, bwr_r, cividis, cividis_r, cool, cool_r, coolwarm, coolwarm_r, copper, copper_r, cubehelix, cubehelix_r, flag, flag_r, gist_earth, gist_earth_r, gist_gray, gist_gray_r, gist_heat, gist_heat_r, gist_ncar, gist_ncar_r, gist_rainbow, gist_rainbow_r, gist_stern, gist_stern_r, gist_yarg, gist_yarg_r, gnuplot, gnuplot2, gnuplot2_r, gnuplot_r, gray, gray_r, hot, hot_r, hsv, hsv_r, inferno, inferno_r, jet, jet_r, magma, magma_r, nipy_spectral, nipy_spectral_r, ocean, ocean_r, pink, pink_r, plasma, plasma_r, prism, prism_r, rainbow, rainbow_r, seismic, seismic_r, spring, spring_r, summer, summer_r, tab10, tab10_r, tab20, tab20_r, tab20b, tab20b_r, tab20c, tab20c_r, terrain, terrain_r, twilight, twilight_r, twilight_shifted, twilight_shifted_r, viridis, viridis_r, winter, winter_r'\n",
    "colors = colors.split(', ')"
   ]
  },
  {
   "cell_type": "code",
   "execution_count": 10,
   "metadata": {},
   "outputs": [],
   "source": [
    "vmax, vmin = np.max(mov), np.min(mov)\n",
    "for i in range(num_of_frames):\n",
    "    im = mov[i]\n",
    "    color = colors[np.random.randint(164)]\n",
    "    image = Image.fromarray(im).resize((400, 300), Image.ANTIALIAS)\n",
    "    plt.imsave(r'movie_zlatovladdka\\frame_{}.png'.format(str(i)), image, vmax=im.max(), vmin=0, cmap=color)"
   ]
  },
  {
   "cell_type": "code",
   "execution_count": 28,
   "metadata": {},
   "outputs": [],
   "source": [
    "import cv2\n",
    "import os\n",
    "\n",
    "output = r'movie_zlatovladdka\\movie.mp4'\n",
    "\n",
    "\n",
    "frame = cv2.imread(r'movie_zlatovladdka\\frame_0.png')\n",
    "cv2.imshow('video',frame)\n",
    "height, width, channels = frame.shape\n",
    "\n",
    "# Define the codec and create VideoWriter object\n",
    "fourcc = cv2.VideoWriter_fourcc(*'mp4v') # Be sure to use lower case\n",
    "out = cv2.VideoWriter('movie_zlatovladdka/movie.mp4', fourcc, 11.0, (width, height))\n",
    "\n",
    "\n",
    "for i in range(num_of_frames):\n",
    "\n",
    "    image_path = os.path.join(r'movie_zlatovladdka\\frame_{}.png'.format(str(i)))\n",
    "    frame = cv2.imread(image_path)\n",
    "\n",
    "    out.write(frame) # Write out frame to video\n",
    "\n",
    "    cv2.imshow('video',frame)\n",
    "    if (cv2.waitKey(1) & 0xFF) == ord('q'): # Hit `q` to exit\n",
    "        break\n",
    "        \n",
    "out.release()\n",
    "cv2.destroyAllWindows()"
   ]
  }
 ],
 "metadata": {
  "kernelspec": {
   "display_name": "Python 3",
   "language": "python",
   "name": "python3"
  },
  "language_info": {
   "codemirror_mode": {
    "name": "ipython",
    "version": 3
   },
   "file_extension": ".py",
   "mimetype": "text/x-python",
   "name": "python",
   "nbconvert_exporter": "python",
   "pygments_lexer": "ipython3",
   "version": "3.7.6"
  }
 },
 "nbformat": 4,
 "nbformat_minor": 4
}
